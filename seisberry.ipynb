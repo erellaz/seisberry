{
 "cells": [
  {
   "cell_type": "markdown",
   "metadata": {},
   "source": [
    "# Seisberry configuration notes\n",
    "Revision 2020-04-16\n",
    "\n",
    "# Introduction\n",
    "The goal is to build a 3 component seismograph (seismometer) based on a Raspberry Pi, an Analog to Digital Hat and 3 coil geophones.\n",
    "\n",
    "# Requirments\n",
    "The projects had to comply with the following technical requirments:\n",
    "- 24 bit sampling for high dynamic and so gain setting is not critical in most applications.  \n",
    "- capable of a sampling rate of 1,000 Hz or faster (1ms sample Interval). \n",
    "- Jitter at 1,000Hz inferior to 5%.\n",
    "- 4 channels to operate with 3 geophones + 1 hydrophone (for a possible Ocean Bottom Node like use case, for very shallow water use).\n",
    "- Output to Segy and Miniseed format for respectivly industrial and research purpose.\n",
    "- price tag under $100 for a single component mode and under $150 for a 3 component land node, to be relevant to the education community and to be accessible in developping countries.\n",
    "- All software opensource and 100% available to the community (Github).\n",
    "- Possibility to operate the node in the field as a mobile unit, with the clock synchronized to GPS time.\n",
    "- Possibility to operate the node as a permanent station, fully autonomous, and automatically uploading its data to a DMC remote server (Iris).\n",
    "- One click access to daily recorded data, when the node is connected to a network, with results displayed on a dynamic web page hosted on the node.  \n",
    "\n",
    "The first 4 requirements insure the node performs as well (or better) than most system available in the industry in 2020.\n",
    "\n",
    "## Parts needed\n",
    "- Raspberry Pi 3 B+: USD 35 (Raspberry Pi 4 has a higher power consumption and possible compatibility issue with the ADDA board): \n",
    "- Onboard ADS1256, 8 channels 24 bit high-precision ADC (4ch differential input), 30ksps sampling rate: USD 29\n",
    "- 3 geophones (1 vertical, 2 horizontal), with their shunt resistance. I use: RTC-10Hz 395 Ohms with 1000 Ohms shunt: USD 30x3.\n",
    "- wires and a box.\n",
    "\n",
    "\n",
    "## Raspberry Pi OS install:\n",
    "It is strongly suggested to use a Raspian OS as many useful libraries for Raspberry PI come pre-installed.\n",
    "\n",
    "Download Raspian Buster (2020) image, check SHA 256 hash.\n",
    "With Balena Etcher, flash the SD card with the Raspian Buster image.\n",
    "Connect a screen, mouse and keyboard to the Pi.\n",
    "Boot the Raspberry with the image out of Etcher.\n",
    "Configure password (use a strong password as we will be opening SSH, VSP etc..) then the hostname to \"seisberry\".\n",
    "Update the distribution (just follow the wizard that should pop up automatically after the first install).\n",
    "Configure wifi, keyboard, date.\n",
    "Allow VSP and SSH connect in Preference > Raspberry Pi Configuration.\n",
    "Do ifconfig in a terminal and write down the node's IP on the local network. Example IPv4 is: 192.168.1.118\n",
    "Power down.\n",
    "\n",
    "\n",
    "## Board Setting:\n",
    "Connect the High-Precision AD-DA Board to the Raspberry Pi, via the GPIO header.\n",
    "\n",
    "Jumper settings:\n",
    "Set the Power Supply to 5V: connect the pin 5V and VCC.\n",
    "Set the Reference Input Voltage to 5V: connect the pin 5V and VREF.\n",
    "\n",
    "For testing the board only:\n",
    "Set the Potentiometer output as an Analog Input: connect the pin ADJ and AD0. Make sure the left side Sensor Interface AD0 is disconnected.\n",
    "Set the LDR (Light Detection Resistor) output as an Analog Input: connect the pin LDR and AD1. Make sure the left side Sensor Interface AD1 is disconnected.\n",
    "Last connect AINCOM to AGND, to set the board to single handed (as opposed to differential). \n",
    "\n",
    "Note: later, when using AD for differential measurements (which is what we will do for the geophone application), INCOM and AGND need to be disconnected, ie the jumper removed. Of couse LDR and Potentiometer will also be disconnected.\n",
    "\n",
    "\n",
    "## VNC connect:\n",
    "Power up the Raspberry Pi with the HAT now connected. Both the HAT and the Pi should have their power led on.\n",
    "VNC to seisberry (I use VNC viewer, free). If your local DNS is setup right, \"seisberry\" is the address, alternativly use the IP previously noted. \n",
    "If you do not want to VNC, connect a screen, mouse and keyboard to the Pi.\n",
    "\n",
    "The doc on sharewave (https://www.waveshare.com/wiki/High-Precision_AD/DA_Board) is out of date, applies for older versions for which the files are unavailable. Do not follow it, follow this tutorial instead: \n",
    "\n",
    "\n",
    "## GPIO libraries:\n",
    "\n",
    "A powerful feature of the Raspberry Pi is the row of GPIO (general-purpose input/output) pins along the top edge of the board. A 40-pin GPIO header is found on all current Raspberry Pi boards. Any of the GPIO pins can be designated (in software) as an input or output pin and used for a wide range of purposes. Your High-Precision AD-DA Board is connected to the Pi's GPIO bus.\n",
    "\n",
    "\n",
    "### RPi.GPIO and WiringPI:\n",
    "WiringPi is a C library used by C programs for GPIO connections. \n",
    "RPi.GPIO is a Python library used by Python programs for GPIO connections.\n",
    "\n",
    "Both libraries are PRE-INSTALLED with standard Raspbian systems! You do not need to install anything. \n",
    "Disregard the High-Precision AD-DA Board manual.\n",
    "\n",
    "Optional step: you can check your GPIO libraries versions:\n",
    "        "
   ]
  },
  {
   "cell_type": "code",
   "execution_count": null,
   "metadata": {},
   "outputs": [],
   "source": [
    "gpio -v"
   ]
  },
  {
   "cell_type": "markdown",
   "metadata": {},
   "source": [
    "and in Python:"
   ]
  },
  {
   "cell_type": "code",
   "execution_count": null,
   "metadata": {},
   "outputs": [],
   "source": [
    "import RPi.GPIO as GPIO\n",
    "GPIO.VERSION"
   ]
  },
  {
   "cell_type": "markdown",
   "metadata": {},
   "source": [
    "### Bcm2835 libray:\n",
    "\n",
    "This is a C GPIO library and this step could be skipped if you intent to use the board with Python only. \n",
    "However the sampling speed needed for the seismograph project will require C. \n",
    "Note I would have prefered to use the standard C GPIO library (WiringPi), installed on Raspian by default. However the existing C program we will reuse here is built on another GPIO library: BCM2835. So that's what we will use and install now. \n",
    "If somebody finds the time to port to WiringPi instead, please let me know.\n",
    "\n",
    "Visit:  http://www.airspayce.com/mikem/bcm2835/ to get the latest version, or get a waveshare tested version from: \n",
    "https://www.waveshare.com/wiki/File:Bcm2835-1.45.tar.gz\n",
    "\n",
    "Install bcm2835:"
   ]
  },
  {
   "cell_type": "code",
   "execution_count": null,
   "metadata": {},
   "outputs": [],
   "source": [
    "tar zxvf bcm2835-1.xx.tar.gz\n",
    "cd bcm2835xx"
   ]
  },
  {
   "cell_type": "markdown",
   "metadata": {},
   "source": [
    "in the bcm2835xxx directory (Note: it seems this needs to be done as root to avoid the /dev/mem access problem further down the line):"
   ]
  },
  {
   "cell_type": "code",
   "execution_count": null,
   "metadata": {},
   "outputs": [],
   "source": [
    "./configure\n",
    "make\n",
    "sudo make check\n",
    "sudo make install"
   ]
  },
  {
   "cell_type": "markdown",
   "metadata": {},
   "source": [
    "## Config I2C interface:\n",
    "\n",
    "As well as simple input and output devices, the GPIO pins can be used with a variety of alternative functions, some are available on all pins, others on specific pins.\n",
    "- PWM (pulse-width modulation)\n",
    "- SPI (Serial Peripheral Interface)\n",
    "- I2C (Inter-Integrated Circuit)\n",
    "- Serial\n",
    "\n",
    "The bcm2835 C library uses I2C to read digital inputs and setting digital outputs. \n",
    "For Python the I2C part could be skipped, as we are using spidev with SPI, Spidev is installed by default on Raspian. \n",
    "Note: Wiring Pi would also need I2C (or SPI).\n",
    "\n",
    "Here is how we configure I2C for our board:\n"
   ]
  },
  {
   "cell_type": "code",
   "execution_count": null,
   "metadata": {},
   "outputs": [],
   "source": [
    "sudo raspi-config"
   ]
  },
  {
   "cell_type": "markdown",
   "metadata": {},
   "source": [
    "Interface Options -> I2C -> yes"
   ]
  },
  {
   "cell_type": "code",
   "execution_count": null,
   "metadata": {},
   "outputs": [],
   "source": [
    "sudo nano /etc/modules"
   ]
  },
  {
   "cell_type": "markdown",
   "metadata": {},
   "source": [
    "Add the following two lines to the configuration file:"
   ]
  },
  {
   "cell_type": "code",
   "execution_count": null,
   "metadata": {},
   "outputs": [],
   "source": [
    "i2c-bcm2708\n",
    "i2c-dev"
   ]
  },
  {
   "cell_type": "markdown",
   "metadata": {},
   "source": [
    "Press the keys Ctrl+X to exit, and input Y to save the settings. \n",
    "\n",
    "Reboot the Raspberry PI\n",
    "Select Interface Options -> I2C -> yes, to start up I2C core driver.\n",
    "\n",
    "Check with:"
   ]
  },
  {
   "cell_type": "code",
   "execution_count": null,
   "metadata": {},
   "outputs": [],
   "source": [
    "ls /dev/*i2c*"
   ]
  },
  {
   "cell_type": "markdown",
   "metadata": {},
   "source": [
    "/dev/i2c-1"
   ]
  },
  {
   "cell_type": "markdown",
   "metadata": {},
   "source": [
    "## Config SPI interface:\n",
    "\n",
    "For both Python (as spidev uses SPI) and some C libraries:"
   ]
  },
  {
   "cell_type": "code",
   "execution_count": null,
   "metadata": {},
   "outputs": [],
   "source": [
    "sudo raspi-config"
   ]
  },
  {
   "cell_type": "markdown",
   "metadata": {},
   "source": [
    "Select Interface Options -> SPI -> yes, to start up SPI core driver.\n",
    "\n",
    "Check with:"
   ]
  },
  {
   "cell_type": "code",
   "execution_count": null,
   "metadata": {},
   "outputs": [],
   "source": [
    "ls /dev/*spi*"
   ]
  },
  {
   "cell_type": "markdown",
   "metadata": {},
   "source": [
    "You should get:\n",
    "/dev/spidev0.0  /dev/spidev0.1\n",
    "These represent SPI devices on chip enable pins 0 and 1, respectively. These pins are hardwired within the Pi.\n",
    "\n",
    "\n",
    "## Python:\n",
    "\n",
    "Let's do some testing with Python first, to make sure everything is running smoothly.\n",
    "\n",
    "The only dependencies are:\n",
    "spidev, RPi.GPIO and some standard stuff. All are present by default on the Raspian, so you should no have any dependency problem. Spidev needs the SPI driver up, as done in the previous step.\n",
    "\n",
    "Run main.py to test the board:\n",
    "\n",
    "With the python script up and running:  \n",
    "Block the LDR (Light Detection Resistor) from the light and then the voltage of channel AD1 will be changed.\n",
    "Turn the potentiometer and the voltage of channel AD0 will be changed.\n",
    "In the end, press Ctrl+C to suspend the current process.\n",
    "\n",
    "Congratulation, you now have a functional Rapsberry Pi with a working AD Board, interfacing with Python.\n",
    "\n",
    "\n",
    "## Setting the Jumpers to differential\n",
    "Set the board to differential mode by physicaly removing the AINCOM to AGND jumper\n",
    "At this point we are still in test mode measuring the LDR & potentiometer.\n",
    "Why differential mode? If some eletromagnetic noise is present in your environment, it will be the same on both your inputs. By taking the difference (differential mode) the noise is removed. For details see:\n",
    "https://en.wikipedia.org/wiki/Common-mode_rejection_ratio\n",
    "\n",
    "You can rerun the Python test if you will.\n",
    "\n",
    "## C:\n",
    "Dependencies:\n",
    "Standard libraries and bcm2835.h Needs I2C up and running.\n",
    "\n",
    "The original C source comes from:\n",
    "https://github.com/will127534/RaspberryPi-seismograph\n",
    "And the original author discuss the project here: \n",
    "https://will-123456.blogspot.com/2019/04/diy-seismograph.html\n",
    "\n",
    "I forked this project on Github to add a few features I needed, like the ability to take a parameter file as input, so the AD gain, processing gain, sample rate, and output path can be passed at execution in a parameter text file, and changing those does not necessitate to recompile the program. If no parameter file is passed as argument, the program defaults to the exact same behaviour as the original program.\n",
    "My fork is available here, and it is what we'll be using from here: \n",
    "https://github.com/erellaz/RaspberryPi-seismograph\n",
    "\n",
    "Here is an example of a parameter file:\n",
    "- AmpGain : 64\n",
    "- NumGain : 1.0\n",
    "- PSP     : 750\n",
    "- Path    : /media/pi/92ED-675B/\n",
    "\n",
    "\n",
    "Multithreading:\n",
    "If the same thread writes a chunck of data and then switches to the next chunck, the time spent spent in between causes some data to be lost. So the program has 2 threads, one reads from the card, then pass back to the main thread to write. Files are switched through the pipe.\n",
    "\n",
    "Install:\n",
    "Go to the obj directory of the diy-seismograph project and build the executable for your system and libs:"
   ]
  },
  {
   "cell_type": "code",
   "execution_count": null,
   "metadata": {},
   "outputs": [],
   "source": [
    "cd RaspberryPi-seismograph-master/Software/RaspberryCode\n",
    "make"
   ]
  },
  {
   "cell_type": "markdown",
   "metadata": {},
   "source": [
    "Execute the compiled program:"
   ]
  },
  {
   "cell_type": "code",
   "execution_count": null,
   "metadata": {},
   "outputs": [],
   "source": [
    "./ads1256_test"
   ]
  },
  {
   "cell_type": "markdown",
   "metadata": {},
   "source": [
    "If you get the /dev/mem segmentation fault, it is indicative of an install problem with Bcm2835. A quick and dirty fix is to run the sampling progam setuid root:"
   ]
  },
  {
   "cell_type": "code",
   "execution_count": null,
   "metadata": {},
   "outputs": [],
   "source": [
    "sudo chown root.root ads1256_test\n",
    "sudo chmod +s ads1256_test"
   ]
  },
  {
   "cell_type": "markdown",
   "metadata": {},
   "source": [
    "You should get a file like:\n",
    "20200415_063041.txt\n",
    "year month day _ hour minute second, one file every 15mn"
   ]
  },
  {
   "cell_type": "code",
   "execution_count": null,
   "metadata": {},
   "outputs": [],
   "source": [
    "more 20200415_063041.txt\n",
    "1586950241.002875810,0.078125000,0.078125000,0.078125000,001147643\n",
    "1586950241.004261419,0.078125000,0.078125000,0.078125000,001353578\n",
    "1586950241.005647236,0.078125000,0.078125000,0.078125000,001363005"
   ]
  },
  {
   "cell_type": "markdown",
   "metadata": {},
   "source": [
    "With the following format:"
   ]
  },
  {
   "cell_type": "code",
   "execution_count": null,
   "metadata": {},
   "outputs": [],
   "source": [
    "Epoch Time in sec   ,CH0\t,CH1\t    ,CH2\t,SI in sec\n",
    "1586950241.007033157,0.078125000,0.078125000,0.078125000,001364411\n",
    "1586950241.008420277,0.078125000,0.078125000,0.078125000,001366234"
   ]
  },
  {
   "cell_type": "markdown",
   "metadata": {},
   "source": [
    "Congratulation, your board is now running in differential mode with both C and Python.\n",
    "\n",
    "\n",
    "## Geophones:\n",
    "\n",
    "Measure resistance of your geophones (open circuit): I get 395 Ohms for my RTC-10Hz 395\n",
    "Solder a 1,000 Ohm resistance in shunt + 2 wires. \n",
    "It is best practice to twist your pairs to reduce crosstalk and electromangnetic interference. \n",
    "https://en.wikipedia.org/wiki/Twisted_pair\n",
    "\n",
    "Measure the new resistance of 283.15 Ohm (1/283.15)=(1/1000)+(1/395)  \n",
    "On the board, remove the 2 jumpers connecting AD1 to LDR and ADO to ADJ: we are done with test mode, so we can disconnect the Photoresistor and Potentiometer.\n",
    "\n",
    "Wifi is so high frequency it should not interfere with the relativly low frequencies we are trying to measure, however... at this point I recommend to power off the Wifi adapter of the Raspberry Pi board to reduce electromagnetic interference:"
   ]
  },
  {
   "cell_type": "markdown",
   "metadata": {},
   "source": [
    "sudo iwconfig wlan0 txpower off"
   ]
  },
  {
   "cell_type": "markdown",
   "metadata": {},
   "source": [
    "Use: "
   ]
  },
  {
   "cell_type": "markdown",
   "metadata": {},
   "source": [
    "sudo iwconfig wlan0 txpower on "
   ]
  },
  {
   "cell_type": "markdown",
   "metadata": {},
   "source": [
    "to enable it again if needed.\n",
    "\n",
    "Connect the 3 geophones to the 6 AD pins in differential mode: Pins(0-1, 1-2, 3-4)\n",
    "\n",
    "Start recording."
   ]
  },
  {
   "cell_type": "code",
   "execution_count": null,
   "metadata": {},
   "outputs": [],
   "source": [
    "./ads1256_test"
   ]
  },
  {
   "cell_type": "markdown",
   "metadata": {},
   "source": [
    "Perform a geophone tap test to check response and polarity: \n",
    "the SEG standard for causal seismic data specifies that the onset of a compression from an explosive source is represented by a negative number, that is, by a downward deflection when displayed graphically.\n",
    "\n",
    "You can do a top to check performance. The process relativly CPU intensive.\n",
    "\n",
    "Congratulation, you have made a functional seismograph!\n",
    "\n",
    "\n",
    "\n",
    "## Install Obspy\n",
    "See here for details:\n",
    "https://github.com/obspy/obspy/wiki/Installation-on-Linux-via-Apt-Repository"
   ]
  },
  {
   "cell_type": "code",
   "execution_count": null,
   "metadata": {},
   "outputs": [],
   "source": [
    "sudo chmod 777 /etc/apt/sources.list"
   ]
  },
  {
   "cell_type": "markdown",
   "metadata": {},
   "source": [
    "Add the following line at the end of the update file, assuming you use Raspian Buster:"
   ]
  },
  {
   "cell_type": "code",
   "execution_count": null,
   "metadata": {},
   "outputs": [],
   "source": [
    "deb http://deb.obspy.org buster main"
   ]
  },
  {
   "cell_type": "markdown",
   "metadata": {},
   "source": [
    "Get the public key for package integrity:"
   ]
  },
  {
   "cell_type": "code",
   "execution_count": null,
   "metadata": {},
   "outputs": [],
   "source": [
    "wget --quiet -O - https://raw.githubusercontent.com/obspy/obspy/master/misc/debian/public.key | sudo apt-key add -"
   ]
  },
  {
   "cell_type": "markdown",
   "metadata": {},
   "source": [
    "Install with dependencies:"
   ]
  },
  {
   "cell_type": "code",
   "execution_count": null,
   "metadata": {},
   "outputs": [],
   "source": [
    "sudo apt-get update\n",
    "sudo apt-get install python-obspy python3-obspy"
   ]
  },
  {
   "cell_type": "markdown",
   "metadata": {},
   "source": [
    "then you can use plotgen.py to look at the data.\n",
    "\n",
    "\n",
    "## Transfer data to and from seisberry:\n",
    "Make sure ssh is enable in Preference> Raspberry Pi Config\n",
    "then from a terminal (do command in a windows machine, or open a term in Linux or Mac)"
   ]
  },
  {
   "cell_type": "code",
   "execution_count": null,
   "metadata": {},
   "outputs": [],
   "source": [
    "sftp pi@seisberry"
   ]
  },
  {
   "cell_type": "markdown",
   "metadata": {},
   "source": [
    "then \n",
    "cd ... \n",
    "mget * or mget -r *\n",
    "\n",
    "\n",
    "## Installing GPS for time source\n",
    "\n",
    "Optional, only usefull if you have an USB GPS and intent to use the seisberry in the field, deconnected from the internet, and accurate timing is important for your application.\n",
    "https://photobyte.org/raspberry-pi-stretch-gps-dongle-as-a-time-source-with-chrony-timedatectl/"
   ]
  },
  {
   "cell_type": "markdown",
   "metadata": {},
   "source": [
    "# Processing the seismic data\n",
    "Use the daily processing Python script. Latest versiosn available here:\n",
    "https://github.com/erellaz/seisberry\n",
    "\n",
    "There are 2 versions:\n",
    "- one version optimized for hardware light systems, like the seisberry, it is prefixed Pi_. Rapsberries are 32 bit systems, limiting the max size of a numpy array to 2G. So the Rapsberry version of the script processes only one channels at a time and implements various strategies to be memory light. It runs without problem for 24 hours of production. It needs to be run for every channel (for 3 channels the script runs 3 times).\n",
    "- one version optimized for 64 bit desktops. This version processes all channels at the same time. This is the one to use when you are processing the data on a desktop.\n",
    "\n",
    "The scripts works in UTM, which is the standard in seismology.\n",
    "The start of the script has some user updatable variables fully documented. Modify that, and only that, according to your location and goals.\n",
    "\n",
    "The script runs in 4 stages:\n",
    "-  connect to the USGS server to download the official list of earthquakes in the last 7 days. Filter those earthquakes by location and magnitude to retain only the one you have a change to see at your location, store them in a catalog, for labelling purposes.\n",
    "- go though the production (1 file every 15mn), implement a robust reading strategy (some files may be missformed), and store the everything in a numpy array. If the numpy array already exists (rerun of the script), reads that instead, which is much faster.\n",
    "- compute various statistics and diagnostics\n",
    "- convert the data to numpy format and plot a \"day plot\", label with the catalog of official events."
   ]
  },
  {
   "cell_type": "markdown",
   "metadata": {},
   "source": [
    "# Making the seisberry a web server showing the day plots\n",
    "First install Apache web server on the seisberry:"
   ]
  },
  {
   "cell_type": "code",
   "execution_count": null,
   "metadata": {},
   "outputs": [],
   "source": [
    "sudo apt install apache2 -y"
   ]
  },
  {
   "cell_type": "markdown",
   "metadata": {},
   "source": [
    "Then from any computer on your local network, go to: \n",
    "    http://seisberry\n",
    "You should see the Debian Apache default Web page saying \"It worked\""
   ]
  },
  {
   "cell_type": "markdown",
   "metadata": {},
   "source": [
    "The default webpage is here: /var/www/html/index.html\n",
    "\n",
    "Now we give ourself right to the directory:"
   ]
  },
  {
   "cell_type": "code",
   "execution_count": null,
   "metadata": {},
   "outputs": [],
   "source": [
    "sudo usermod -a -G www-data pi\n",
    "sudo chown -R -f www-data:www-data /var/www/html"
   ]
  },
  {
   "cell_type": "markdown",
   "metadata": {},
   "source": [
    "Now we can make a gallery from our day plots:\n",
    "Download the Pi_Make_gallery.py script from Github:\n",
    "https://github.com/erellaz/seisberry\n",
    "\n",
    "This is a very simple script making a web page showcasing the different plots generated by the previous script. It is quite simple and minimalist, but works well."
   ]
  },
  {
   "cell_type": "markdown",
   "metadata": {},
   "source": [
    "# Cleaning old data automatically\n",
    "At 1ms of sample rate, and stored in text files, raw data piles up very quickly. I use 3 mini sd cards in my seisberry: one for the Raspian OS, one for the raw files, and one for the miniseed. Then a 3rd Python scripts cleans the older data automatically, after a few days, giving the user ample time to download the most interesting parts of the collected data.\n",
    "Pi_daily_clean.py can be daonloaded at: https://github.com/erellaz/seisberry"
   ]
  },
  {
   "cell_type": "markdown",
   "metadata": {},
   "source": [
    "# Upload your data to Iris\n",
    "Register your station at Iris and obtain a host and port name to upload from for your station.\n",
    "\n",
    "Download miniseed2dmc:\n",
    "https://github.com/iris-edu/miniseed2dmc\n",
    "\n",
    "Install it:"
   ]
  },
  {
   "cell_type": "code",
   "execution_count": null,
   "metadata": {},
   "outputs": [],
   "source": [
    "make"
   ]
  },
  {
   "cell_type": "markdown",
   "metadata": {},
   "source": [
    "Create a bash miniseed2dmc upload command."
   ]
  },
  {
   "cell_type": "code",
   "execution_count": null,
   "metadata": {},
   "outputs": [],
   "source": [
    "miniseed2dmc host:port data"
   ]
  },
  {
   "cell_type": "markdown",
   "metadata": {},
   "source": [
    "# Automate all your tasks with crontab\n",
    "Now we will use crontab to schedule every day the script generating the plot, then the script generating the webpage, then the script cleaning the sd card with the data. "
   ]
  },
  {
   "cell_type": "code",
   "execution_count": null,
   "metadata": {},
   "outputs": [],
   "source": [
    "crontab -e"
   ]
  },
  {
   "cell_type": "markdown",
   "metadata": {},
   "source": [
    "Here is what my crontab looks like, (result of crontab -l)"
   ]
  },
  {
   "cell_type": "code",
   "execution_count": null,
   "metadata": {},
   "outputs": [],
   "source": [
    "# m h  dom mon dow   command\n",
    "0 05 * * * python3 /home/pi/Desktop/Daily/Daily_processing.py 1\n",
    "0 06 * * * python3 /home/pi/Desktop/Daily/Daily_processing.py 2\n",
    "0 07 * * * python3 /home/pi/Desktop/Daily/Daily_processing.py 3\n",
    "0 08 * * * python3 /home/pi/Desktop/Daily/Make_gallery.py\n",
    "0 09 * * * python3 /home/pi/Desktop/Daily/Daily_clean.py /media/pi/MINISEED_DATA mseed\n",
    "4 09 * * * python3 /home/pi/Desktop/Daily/Daily_clean.py /var/www/html png\n",
    "9 09 * * * python3 /home/pi/Desktop/Daily/Daily_clean.py /media/pi/RAW_DATA done\n"
   ]
  },
  {
   "cell_type": "markdown",
   "metadata": {},
   "source": [
    "Rebbot the Raspberry and you are all set."
   ]
  }
 ],
 "metadata": {
  "kernelspec": {
   "display_name": "Python 3",
   "language": "python",
   "name": "python3"
  },
  "language_info": {
   "codemirror_mode": {
    "name": "ipython",
    "version": 3
   },
   "file_extension": ".py",
   "mimetype": "text/x-python",
   "name": "python",
   "nbconvert_exporter": "python",
   "pygments_lexer": "ipython3",
   "version": "3.7.3"
  }
 },
 "nbformat": 4,
 "nbformat_minor": 2
}
